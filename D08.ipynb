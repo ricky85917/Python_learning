{
 "cells": [
  {
   "cell_type": "code",
   "execution_count": null,
   "metadata": {
    "id": "4klYNT34p73l"
   },
   "outputs": [],
   "source": []
  },
  {
   "cell_type": "markdown",
   "metadata": {
    "id": "9qndwAG5UAKi"
   },
   "source": [
    "作業目標<br>\n",
    "在一個陣列中放入多屬性陣列，進一步對陣列做運算<br>\n",
    "作業重點<br>\n",
    "在建立結構化陣列前需要先設定屬性，在做運算時須注意資料屬性"
   ]
  },
  {
   "cell_type": "markdown",
   "metadata": {
    "id": "48DhzHvBUB2c"
   },
   "source": [
    "題目:<br>\n",
    "name_list = ['小明','小華','小菁','小美','小張','John','Mark','Tom']<br>\n",
    "sex_list = ['boy','boy','girl','girl','boy','boy','boy','boy']<br>\n",
    "weight_list = [67.5,75.3,50.1,45.5,80.8,90.4,78.4,70.7]<br>\n",
    "rank_list = [8,1,5,4,7,6,2,3]<br>\n",
    "myopia_list = [True,True,False,False,True,True,False,False]<br>\n",
    "1. 將上列list依照['name', 'sex', 'weight', 'rank', 'myopia']順序擺入array，並且資料型態順序擺入[Unicode,Unicode,float,int,boolean]<br>\n",
    "2. 呈上題，將array中體重(weight)數據集取出算出全部平均體重\n",
    "3. 呈上題，進一步算出男生(sex欄位是boy)平均體重、女生(sex欄位是girl)平均體重\n"
   ]
  },
  {
   "cell_type": "code",
   "execution_count": 1,
   "metadata": {
    "id": "5n4rAx-9VgVr"
   },
   "outputs": [],
   "source": [
    "import numpy as np "
   ]
  },
  {
   "cell_type": "code",
   "execution_count": 28,
   "metadata": {
    "id": "Vl-wSYQdUBcw"
   },
   "outputs": [],
   "source": [
    "name_list = ['小明','小華','小菁','小美','小張','John','Mark','Tom']\n",
    "sex_list = ['boy','boy','girl','girl','boy','boy','boy','boy']\n",
    "weight_list = [67.5,75.3,50.1,45.5,80.8,90.4,78.4,70.7]\n",
    "rank_list = [8,1,5,4,7,6,2,3]\n",
    "myopia_list = [True,True,False,False,True,True,False,False]\n",
    "\n",
    "dt = np.dtype({'names':('name', 'sex', 'weight', 'rank', 'myopia'), 'formats':('U5', 'U5', 'f4', 'i', '?')})"
   ]
  },
  {
   "cell_type": "code",
   "execution_count": 29,
   "metadata": {
    "id": "ElavkYgwVftG"
   },
   "outputs": [
    {
     "name": "stdout",
     "output_type": "stream",
     "text": [
      "('小明', 'boy', 67.5, 8, True)\n"
     ]
    }
   ],
   "source": [
    "#1. 將上列list依照['name', 'sex', 'weight', 'rank', 'myopia']順序擺入array，並且資料型態順序擺入[Unicode,Unicode,float,int,boolean]\n",
    "person = np.zeros(8, dtype = dt)\n",
    "person['name'] = name_list\n",
    "person['sex'] = sex_list\n",
    "person['weight'] = weight_list\n",
    "person['rank'] = rank_list\n",
    "person['myopia'] = myopia_list\n",
    "print(person[0])"
   ]
  },
  {
   "cell_type": "code",
   "execution_count": 30,
   "metadata": {
    "id": "N-xffNSVWbP1"
   },
   "outputs": [
    {
     "name": "stdout",
     "output_type": "stream",
     "text": [
      "[67.5 75.3 50.1 45.5 80.8 90.4 78.4 70.7]\n",
      "averaged weight:\n",
      " 69.8375\n"
     ]
    }
   ],
   "source": [
    "#2. 呈上題，將array中體重(weight)數據集取出算出全部平均體重\n",
    "mean_w = np.mean(person['weight'])\n",
    "print('averaged weight:\\n',mean_w)"
   ]
  },
  {
   "cell_type": "code",
   "execution_count": 38,
   "metadata": {
    "id": "_LhLg8RiWwEm"
   },
   "outputs": [
    {
     "name": "stdout",
     "output_type": "stream",
     "text": [
      "77.18334\n"
     ]
    }
   ],
   "source": [
    "#3. 呈上題，進一步算出男生(sex欄位是boy)平均體重\n",
    "valid_weight = person['weight']*(person['sex']=='boy')\n",
    "valid_weight[valid_weight==0] = np.nan\n",
    "print(np.nanmean(valid_weight))"
   ]
  },
  {
   "cell_type": "code",
   "execution_count": 42,
   "metadata": {},
   "outputs": [
    {
     "data": {
      "text/plain": [
       "array([67.5, 75.3, 80.8, 90.4, 78.4, 70.7], dtype=float32)"
      ]
     },
     "execution_count": 42,
     "metadata": {},
     "output_type": "execute_result"
    }
   ],
   "source": [
    "person['weight'][person['sex']=='boy']"
   ]
  },
  {
   "cell_type": "code",
   "execution_count": null,
   "metadata": {
    "id": "f_J05IPxX6fg"
   },
   "outputs": [],
   "source": [
    "#3. 呈上題，進一步算出女生(sex欄位是girl)平均體重\n",
    "valid_weight = person['weight']*(person['sex']=='boy')\n",
    "valid_weight[valid_weight==0] = np.nan\n",
    "print(np.nanmean(valid_weight))"
   ]
  },
  {
   "cell_type": "code",
   "execution_count": null,
   "metadata": {
    "id": "eX63rZnX3d5O"
   },
   "outputs": [],
   "source": []
  }
 ],
 "metadata": {
  "colab": {
   "authorship_tag": "ABX9TyNgR7Bv7joIZkErlgUY/y+3",
   "collapsed_sections": [],
   "name": "作業_Hong題目.ipynb",
   "provenance": []
  },
  "kernelspec": {
   "display_name": "Python 3",
   "language": "python",
   "name": "python3"
  },
  "language_info": {
   "codemirror_mode": {
    "name": "ipython",
    "version": 3
   },
   "file_extension": ".py",
   "mimetype": "text/x-python",
   "name": "python",
   "nbconvert_exporter": "python",
   "pygments_lexer": "ipython3",
   "version": "3.6.5"
  }
 },
 "nbformat": 4,
 "nbformat_minor": 1
}
