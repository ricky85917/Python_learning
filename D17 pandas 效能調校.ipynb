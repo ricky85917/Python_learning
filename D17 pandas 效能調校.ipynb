{
 "cells": [
  {
   "cell_type": "markdown",
   "metadata": {
    "id": "b0CqLhJh2s7b"
   },
   "source": [
    "作業目標:<br>\n",
    "1. 在速度較慢的時候，可以先從哪邊開始檢查？\n",
    "2. 資料過⼤時應採取什麼⽅式讓記憶體占⽤量下降？\n",
    "\n"
   ]
  },
  {
   "cell_type": "code",
   "execution_count": 1,
   "metadata": {
    "id": "wGFAn8bhcUK6"
   },
   "outputs": [],
   "source": [
    "# 1.\n",
    "# 檢查讀取以及儲存資料的方式、格式，有沒有更有效率的其他替代方案。\n",
    "# 若有內建函數可以使用，則盡量轉為使用內建函數。\n",
    "# 若是陣列運算，盡量使用向量化的內建函數來幫助計算速度提升。"
   ]
  },
  {
   "cell_type": "code",
   "execution_count": 2,
   "metadata": {},
   "outputs": [],
   "source": [
    "# 2.\n",
    "# 程式運行中，檢查每個使用的變數，將有些不必使用到這麼多記憶體的變數做型態降級。"
   ]
  },
  {
   "cell_type": "code",
   "execution_count": null,
   "metadata": {},
   "outputs": [],
   "source": []
  }
 ],
 "metadata": {
  "colab": {
   "authorship_tag": "ABX9TyMYL5XgdElX7UhbkU71zGse",
   "collapsed_sections": [],
   "name": "作業題目.ipynb",
   "provenance": []
  },
  "kernelspec": {
   "display_name": "Python 3",
   "language": "python",
   "name": "python3"
  },
  "language_info": {
   "codemirror_mode": {
    "name": "ipython",
    "version": 3
   },
   "file_extension": ".py",
   "mimetype": "text/x-python",
   "name": "python",
   "nbconvert_exporter": "python",
   "pygments_lexer": "ipython3",
   "version": "3.6.5"
  }
 },
 "nbformat": 4,
 "nbformat_minor": 1
}
