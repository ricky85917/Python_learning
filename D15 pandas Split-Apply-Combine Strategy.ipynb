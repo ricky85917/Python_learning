{
 "cells": [
  {
   "cell_type": "markdown",
   "metadata": {
    "id": "WpY62-EDcs8F"
   },
   "source": [
    "作業目標:<br>\n",
    "1. 熟悉分組計算"
   ]
  },
  {
   "cell_type": "markdown",
   "metadata": {
    "id": "pXYQs1_9a6He"
   },
   "source": [
    "作業重點: <br>\n",
    "1. 分組計算也可以加入apply自定義的函數"
   ]
  },
  {
   "cell_type": "markdown",
   "metadata": {
    "id": "vysasgqxcupS"
   },
   "source": [
    "題目 : 運用下列分數資料分析<br>\n",
    "1. 找出全年級各科成績最高分與最低分?<br>\n",
    "2. 找出數學班平均最高的班級?<br>\n",
    "3. 分析全校女生與男生國文平均差幾分?<br>\n",
    "score_df = pd.DataFrame([[1,50,80,70,'boy',1],[2,60,45,50,'boy',2],[3,98,43,55,'boy',1],[4,70,69,89,'boy',2],[5,56,79,60,'girl',1],[6,60,68,55,'girl',2],[7,45,70,77,'girl',1],[8,55,77,76,'girl',2],[9,25,57,60,'girl',1],[10,88,40,43,'girl',3],[11,25,60,45,'boy',3],[12,80,60,23,'boy',3],[13,20,90,66,'girl',3],[14,50,50,50,'girl',3],[15,89,67,77,'girl',3]],columns=['student_id','math_score','english_score','chinese_score','sex','class'])"
   ]
  },
  {
   "cell_type": "code",
   "execution_count": null,
   "metadata": {
    "colab": {
     "base_uri": "https://localhost:8080/",
     "height": 514
    },
    "executionInfo": {
     "elapsed": 1215,
     "status": "ok",
     "timestamp": 1608456627947,
     "user": {
      "displayName": "献竤黃",
      "photoUrl": "",
      "userId": "07529243043474362942"
     },
     "user_tz": -480
    },
    "id": "3WzHnm4zct7L",
    "outputId": "d36e7caa-72c8-40c5-e160-c3548a85af78"
   },
   "outputs": [],
   "source": [
    "import pandas as pd\n",
    "score_df = pd.DataFrame([[1,50,80,70,'boy',1], \n",
    "              [2,60,45,50,'boy',2],\n",
    "              [3,98,43,55,'boy',1],\n",
    "              [4,70,69,89,'boy',2],\n",
    "              [5,56,79,60,'girl',1],\n",
    "              [6,60,68,55,'girl',2],\n",
    "              [7,45,70,77,'girl',1],\n",
    "              [8,55,77,76,'girl',2],\n",
    "              [9,25,57,60,'girl',1],\n",
    "              [10,88,40,43,'girl',3],\n",
    "              [11,25,60,45,'boy',3],\n",
    "              [12,80,60,23,'boy',3],\n",
    "              [13,20,90,66,'girl',3],\n",
    "              [14,50,50,50,'girl',3],\n",
    "              [15,89,67,77,'girl',3]],columns=['student_id','math_score','english_score','chinese_score','sex','class'])\n",
    "score_df"
   ]
  },
  {
   "cell_type": "code",
   "execution_count": null,
   "metadata": {
    "id": "Zfs1uSNPfNBL"
   },
   "outputs": [],
   "source": [
    "#1.找出全年級各科成績最高分與最低分?\n",
    "print('math max:'+str(score_df.max(axis = 0)[1])+'       math min:'+str(score_df.min(axis = 0)[1]))\n",
    "print('english max:'+str(score_df.max(axis = 0)[2])+'    english min:'+str(score_df.min(axis = 0)[2]))\n",
    "print('chinese max:'+str(score_df.max(axis = 0)[3])+'    chinese min:'+str(score_df.min(axis = 0)[3]))"
   ]
  },
  {
   "cell_type": "code",
   "execution_count": null,
   "metadata": {
    "id": "iZdLLEzYfPnW"
   },
   "outputs": [],
   "source": [
    "#2.找出數學班平均最高的班級?\n",
    "m = score_df.groupby('class').mean()['math_score']\n",
    "m[m==max(m)]"
   ]
  },
  {
   "cell_type": "code",
   "execution_count": null,
   "metadata": {
    "id": "CWxb-2TqfbNK"
   },
   "outputs": [],
   "source": [
    "#3.分析全校女生與男生國文平均差幾分?\n",
    "abs(score_df.groupby('sex').mean()['chinese_score'][0]-score_df.groupby('sex').mean()['chinese_score'][1])"
   ]
  },
  {
   "cell_type": "code",
   "execution_count": null,
   "metadata": {
    "id": "aBC5K-q6jFvb"
   },
   "outputs": [],
   "source": []
  },
  {
   "cell_type": "code",
   "execution_count": null,
   "metadata": {},
   "outputs": [],
   "source": []
  }
 ],
 "metadata": {
  "colab": {
   "collapsed_sections": [],
   "name": "作業題目.ipynb",
   "provenance": []
  },
  "kernelspec": {
   "display_name": "Python 3",
   "language": "python",
   "name": "python3"
  },
  "language_info": {
   "codemirror_mode": {
    "name": "ipython",
    "version": 3
   },
   "file_extension": ".py",
   "mimetype": "text/x-python",
   "name": "python",
   "nbconvert_exporter": "python",
   "pygments_lexer": "ipython3",
   "version": "3.6.5"
  }
 },
 "nbformat": 4,
 "nbformat_minor": 1
}
